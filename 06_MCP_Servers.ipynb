{
 "cells": [
  {
   "cell_type": "code",
   "execution_count": null,
   "id": "21fef558-7856-4ee5-95bf-cd216124265d",
   "metadata": {},
   "outputs": [],
   "source": [
    "# MCP Servers"
   ]
  },
  {
   "cell_type": "code",
   "execution_count": 31,
   "id": "0dc3a343-edc5-4033-a5d5-213374ab9c0a",
   "metadata": {},
   "outputs": [],
   "source": [
    "from src.utils import step_printer\n"
   ]
  },
  {
   "cell_type": "code",
   "execution_count": null,
   "id": "10aba02f-4120-4857-b8c1-cb874299c833",
   "metadata": {},
   "outputs": [],
   "source": [
    "Let's run our first MCP Server. The MCP-Weather container"
   ]
  },
  {
   "cell_type": "markdown",
   "id": "8e483a08-1c3a-456e-b5fd-3ef92c27f0ed",
   "metadata": {},
   "source": [
    "Run this in a terminal: \n",
    "\n",
    "```bash\n",
    "CONTAINER_NAME=mcp-weather\n",
    "CONTAINER_IMAGE=\"mcp-weather\"\n",
    "CONTAINER_TAG=\"0.1\"\n",
    "REMOTE_REGISTRY=\"local-registry-quay-local-quay-registry.apps.ocpvdev01.dal13.infra.demo.redhat.com/rhdp/\"\n",
    "\n",
    "podman run -d \\\n",
    "--name $CONTAINER_NAME \\\n",
    "--network=host \\\n",
    "${REMOTE_REGISTRY}${CONTAINER_IMAGE}:latest \\\n",
    "--port 8005  "
   ]
  },
  {
   "cell_type": "code",
   "execution_count": 6,
   "id": "464448de-8a1f-4fcd-a536-d7f78971b55c",
   "metadata": {},
   "outputs": [
    {
     "name": "stdout",
     "output_type": "stream",
     "text": [
      "event: endpoint\n",
      "data: /messages/?session_id=b66ec1c75aac460bb1fde0d54dbf3d0b\n",
      "\n"
     ]
    }
   ],
   "source": [
    "!curl --max-time 1 http://localhost:8005/sse 2>/dev/null\n"
   ]
  },
  {
   "cell_type": "code",
   "execution_count": 39,
   "id": "20f2ab1d-cae2-4547-8c54-4d33023c7346",
   "metadata": {},
   "outputs": [
    {
     "name": "stdout",
     "output_type": "stream",
     "text": [
      "--- Available models: ---\n",
      "meta-llama/Llama-3.2-3B-Instruct - ollama - llama3.2:3b-instruct-fp16\n",
      "all-MiniLM-L6-v2 - ollama - all-minilm:latest\n",
      "granite3.2:8b - ollama - granite3.2:8b\n",
      "--- Selected model: ---\n",
      "meta-llama/Llama-3.2-3B-Instruct\n"
     ]
    }
   ],
   "source": [
    "import os\n",
    "\n",
    "# Load environment variables from .env file\n",
    "from dotenv import load_dotenv\n",
    "load_dotenv()\n",
    "\n",
    "# for communication with Llama Stack\n",
    "from llama_stack_client import LlamaStackClient\n",
    "\n",
    "# These libraries are just here to print the results from the agent in a more human-readable way \n",
    "from termcolor import cprint\n",
    "import uuid\n",
    "from llama_stack_client.lib.agents.event_logger import EventLogger\n",
    "stream=False ## Defaulting to False, you can change this throughout the section to \"True\" if you wanted to see the output in another format (Using EventLogger)\n",
    "\n",
    "# for our lab, we will just define our variables manualy here, in a regular application, this would be ready directly from the local .env file and we would comment these lines out\n",
    "os.environ['LLAMA_STACK_SERVER'] = 'http://localhost:8321'\n",
    "\n",
    "# We will be using the Tavily web search service (docs.tavily.com/)\n",
    "tavily_search_api_key='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'\n",
    "provider_data = {\"tavily_search_api_key\": tavily_search_api_key}\n",
    "\n",
    "LLAMA_STACK_SERVER=os.getenv(\"LLAMA_STACK_SERVER\")\n",
    "\n",
    "client = LlamaStackClient(\n",
    "    base_url=LLAMA_STACK_SERVER,\n",
    "    provider_data=provider_data\n",
    ")\n",
    "# List available models\n",
    "models = client.models.list()\n",
    "print(\"--- Available models: ---\")\n",
    "for m in models:\n",
    "    print(f\"{m.identifier} - {m.provider_id} - {m.provider_resource_id}\")\n",
    "\n",
    "# For our development purposes, we might want to change different models and test with them, these lines select the first available model in the Llama Stack server. \n",
    "SELECTED_MODEL=models[0].identifier\n",
    "print(\"--- Selected model: ---\")\n",
    "print(SELECTED_MODEL)\n"
   ]
  },
  {
   "cell_type": "code",
   "execution_count": 40,
   "id": "e8c312ab-b341-4110-a539-24b3a28fd00e",
   "metadata": {},
   "outputs": [
    {
     "name": "stdout",
     "output_type": "stream",
     "text": [
      "Tool(description='Search the web for information', identifier='web_search', parameters=[Parameter(description='The query to search for', name='query', parameter_type='string', required=True, default=None)], provider_id='tavily-search', provider_resource_id='web_search', tool_host='distribution', toolgroup_id='builtin::websearch', type='tool', metadata=None)\n",
      "Tool(description='Insert documents into memory', identifier='insert_into_memory', parameters=[], provider_id='rag-runtime', provider_resource_id='insert_into_memory', tool_host='distribution', toolgroup_id='builtin::rag', type='tool', metadata=None)\n",
      "Tool(description='Search for information in a database.', identifier='knowledge_search', parameters=[Parameter(description='The query to search for. Can be a natural language sentence or keywords.', name='query', parameter_type='string', required=True, default=None)], provider_id='rag-runtime', provider_resource_id='knowledge_search', tool_host='distribution', toolgroup_id='builtin::rag', type='tool', metadata=None)\n",
      "Tool(description='Query WolframAlpha for computational knowledge', identifier='wolfram_alpha', parameters=[Parameter(description='The query to compute', name='query', parameter_type='string', required=True, default=None)], provider_id='wolfram-alpha', provider_resource_id='wolfram_alpha', tool_host='distribution', toolgroup_id='builtin::wolfram_alpha', type='tool', metadata=None)\n",
      "Tool(description='Get weather alerts for a US state.\\n\\n    Args:\\n        state: Two-letter US state code (e.g. CA, NY)\\n    ', identifier='get_alerts', parameters=[Parameter(description='', name='state', parameter_type='string', required=True, default=None)], provider_id='model-context-protocol', provider_resource_id='get_alerts', tool_host='model_context_protocol', toolgroup_id='mcp::mcp-weather', type='tool', metadata={'endpoint': 'http://localhost:8005/sse'})\n",
      "Tool(description='Get weather forecast for a location.\\n\\n    Args:\\n        latitude: Latitude of the location\\n        longitude: Longitude of the location\\n    ', identifier='get_forecast', parameters=[Parameter(description='', name='latitude', parameter_type='string', required=True, default=None), Parameter(description='', name='longitude', parameter_type='string', required=True, default=None)], provider_id='model-context-protocol', provider_resource_id='get_forecast', tool_host='model_context_protocol', toolgroup_id='mcp::mcp-weather', type='tool', metadata={'endpoint': 'http://localhost:8005/sse'})\n"
     ]
    }
   ],
   "source": [
    "registered_tools = client.tools.list()\n",
    "registered_toolgroups = [t.toolgroup_id for t in registered_tools]\n",
    "\n",
    "for tools in registered_tools:\n",
    "    print(tools)\n"
   ]
  },
  {
   "cell_type": "code",
   "execution_count": 41,
   "id": "3d04b7e0-b8e5-41ad-a5f9-c71d027e78c3",
   "metadata": {},
   "outputs": [],
   "source": [
    "client.toolgroups.register(\n",
    "        toolgroup_id=\"mcp::mcp-weather\",\n",
    "        provider_id=\"model-context-protocol\",\n",
    "        mcp_endpoint={\"uri\":\"http://localhost:8005/sse\"},\n",
    "    )"
   ]
  },
  {
   "cell_type": "code",
   "execution_count": 42,
   "id": "4da12894-0b17-4b4f-8622-513246722783",
   "metadata": {},
   "outputs": [
    {
     "name": "stdout",
     "output_type": "stream",
     "text": [
      "\n",
      "\n",
      "Tool(description='Search the web for information', identifier='web_search', parameters=[Parameter(description='The query to search for', name='query', parameter_type='string', required=True, default=None)], provider_id='tavily-search', provider_resource_id='web_search', tool_host='distribution', toolgroup_id='builtin::websearch', type='tool', metadata=None)\n",
      "\n",
      "\n",
      "Tool(description='Insert documents into memory', identifier='insert_into_memory', parameters=[], provider_id='rag-runtime', provider_resource_id='insert_into_memory', tool_host='distribution', toolgroup_id='builtin::rag', type='tool', metadata=None)\n",
      "\n",
      "\n",
      "Tool(description='Search for information in a database.', identifier='knowledge_search', parameters=[Parameter(description='The query to search for. Can be a natural language sentence or keywords.', name='query', parameter_type='string', required=True, default=None)], provider_id='rag-runtime', provider_resource_id='knowledge_search', tool_host='distribution', toolgroup_id='builtin::rag', type='tool', metadata=None)\n",
      "\n",
      "\n",
      "Tool(description='Query WolframAlpha for computational knowledge', identifier='wolfram_alpha', parameters=[Parameter(description='The query to compute', name='query', parameter_type='string', required=True, default=None)], provider_id='wolfram-alpha', provider_resource_id='wolfram_alpha', tool_host='distribution', toolgroup_id='builtin::wolfram_alpha', type='tool', metadata=None)\n",
      "\n",
      "\n",
      "Tool(description='Get weather alerts for a US state.\\n\\n    Args:\\n        state: Two-letter US state code (e.g. CA, NY)\\n    ', identifier='get_alerts', parameters=[Parameter(description='', name='state', parameter_type='string', required=True, default=None)], provider_id='model-context-protocol', provider_resource_id='get_alerts', tool_host='model_context_protocol', toolgroup_id='mcp::mcp-weather', type='tool', metadata={'endpoint': 'http://localhost:8005/sse'})\n",
      "\n",
      "\n",
      "Tool(description='Get weather forecast for a location.\\n\\n    Args:\\n        latitude: Latitude of the location\\n        longitude: Longitude of the location\\n    ', identifier='get_forecast', parameters=[Parameter(description='', name='latitude', parameter_type='string', required=True, default=None), Parameter(description='', name='longitude', parameter_type='string', required=True, default=None)], provider_id='model-context-protocol', provider_resource_id='get_forecast', tool_host='model_context_protocol', toolgroup_id='mcp::mcp-weather', type='tool', metadata={'endpoint': 'http://localhost:8005/sse'})\n"
     ]
    }
   ],
   "source": [
    "registered_tools = client.tools.list()\n",
    "registered_toolgroups = [t.toolgroup_id for t in registered_tools]\n",
    "\n",
    "for tools in registered_tools:\n",
    "    print(\"\\n\")\n",
    "    print(tools)"
   ]
  },
  {
   "cell_type": "code",
   "execution_count": 43,
   "id": "89e96f7e-5578-49ca-9ddd-467cbb66e97f",
   "metadata": {},
   "outputs": [],
   "source": [
    "from llama_stack_client.lib.agents.agent import Agent\n",
    "\n",
    "agent = Agent(\n",
    "    client, \n",
    "    model=SELECTED_MODEL,\n",
    "    instructions=\"\"\"You are a helpful agent with access to tools, use the weather tool to answer questions\n",
    "            \"\"\" ,\n",
    "    tools=[\"mcp::mcp-weather\"],\n",
    ")"
   ]
  },
  {
   "cell_type": "code",
   "execution_count": 44,
   "id": "59d5bf65-d210-4547-87d8-5d850ec5dd65",
   "metadata": {},
   "outputs": [
    {
     "name": "stdout",
     "output_type": "stream",
     "text": [
      "\u001b[34m\n",
      "====================================================================================================\n",
      "Processing user query: what is the weather in boulder colorado\n",
      "====================================================================================================\u001b[0m\n",
      "\n",
      "---------- 📍 Step 1: InferenceStep ----------\n",
      "🛠️ Tool call Generated:\n",
      "\u001b[33mTool call: get_forecast, Arguments: {'latitude': '40.0116', 'longitude': '-105.2729'}\u001b[0m\n",
      "\n",
      "---------- 📍 Step 2: ToolExecutionStep ----------\n",
      "🔧 Executing tool...\n"
     ]
    },
    {
     "data": {
      "text/html": [
       "<pre style=\"white-space:pre;overflow-x:auto;line-height:normal;font-family:Menlo,'DejaVu Sans Mono',consolas,'Courier New',monospace\"><span style=\"font-weight: bold\">{</span>\n",
       "<span style=\"color: #7fbf7f; text-decoration-color: #7fbf7f\">│   </span><span style=\"color: #008000; text-decoration-color: #008000\">'type'</span>: <span style=\"color: #008000; text-decoration-color: #008000\">'text'</span>,\n",
       "<span style=\"color: #7fbf7f; text-decoration-color: #7fbf7f\">│   </span><span style=\"color: #008000; text-decoration-color: #008000\">'text'</span>: <span style=\"color: #008000; text-decoration-color: #008000\">'\\nThis Afternoon:\\nTemperature: 67°F\\nWind: 6 mph ESE\\nForecast: A slight chance of showers and thunderstorms. Mostly sunny. High near 67, with temperatures falling to around 65 in the afternoon. East southeast wind around 6 mph. Chance of precipitation is 20%.\\n        \\n---\\n\\nTonight:\\nTemperature: 47°F\\nWind: 5 mph WSW\\nForecast: A slight chance of rain showers before 7pm. Partly cloudy, with a low around 47. West southwest wind around 5 mph. Chance of precipitation is 20%.\\n        \\n---\\n\\nFriday:\\nTemperature: 72°F\\nWind: 2 to 6 mph NNE\\nForecast: A slight chance of showers and thunderstorms after noon. Mostly sunny. High near 72, with temperatures falling to around 70 in the afternoon. North northeast wind 2 to 6 mph. Chance of precipitation is 20%.\\n        \\n---\\n\\nFriday Night:\\nTemperature: 47°F\\nWind: 5 mph NW\\nForecast: Partly cloudy, with a low around 47. Northwest wind around 5 mph.\\n        \\n---\\n\\nSaturday:\\nTemperature: 78°F\\nWind: 2 to 7 mph SSE\\nForecast: Sunny, with a high near 78. South southeast wind 2 to 7 mph.\\n        '</span>,\n",
       "<span style=\"color: #7fbf7f; text-decoration-color: #7fbf7f\">│   </span><span style=\"color: #008000; text-decoration-color: #008000\">'annotations'</span>: <span style=\"color: #800080; text-decoration-color: #800080; font-style: italic\">None</span>\n",
       "<span style=\"font-weight: bold\">}</span>\n",
       "</pre>\n"
      ],
      "text/plain": [
       "\u001b[1m{\u001b[0m\n",
       "\u001b[2;32m│   \u001b[0m\u001b[32m'type'\u001b[0m: \u001b[32m'text'\u001b[0m,\n",
       "\u001b[2;32m│   \u001b[0m\u001b[32m'text'\u001b[0m: \u001b[32m'\\nThis Afternoon:\\nTemperature: 67°F\\nWind: 6 mph ESE\\nForecast: A slight chance of showers and thunderstorms. Mostly sunny. High near 67, with temperatures falling to around 65 in the afternoon. East southeast wind around 6 mph. Chance of precipitation is 20%.\\n        \\n---\\n\\nTonight:\\nTemperature: 47°F\\nWind: 5 mph WSW\\nForecast: A slight chance of rain showers before 7pm. Partly cloudy, with a low around 47. West southwest wind around 5 mph. Chance of precipitation is 20%.\\n        \\n---\\n\\nFriday:\\nTemperature: 72°F\\nWind: 2 to 6 mph NNE\\nForecast: A slight chance of showers and thunderstorms after noon. Mostly sunny. High near 72, with temperatures falling to around 70 in the afternoon. North northeast wind 2 to 6 mph. Chance of precipitation is 20%.\\n        \\n---\\n\\nFriday Night:\\nTemperature: 47°F\\nWind: 5 mph NW\\nForecast: Partly cloudy, with a low around 47. Northwest wind around 5 mph.\\n        \\n---\\n\\nSaturday:\\nTemperature: 78°F\\nWind: 2 to 7 mph SSE\\nForecast: Sunny, with a high near 78. South southeast wind 2 to 7 mph.\\n        '\u001b[0m,\n",
       "\u001b[2;32m│   \u001b[0m\u001b[32m'annotations'\u001b[0m: \u001b[3;35mNone\u001b[0m\n",
       "\u001b[1m}\u001b[0m\n"
      ]
     },
     "metadata": {},
     "output_type": "display_data"
    },
    {
     "name": "stdout",
     "output_type": "stream",
     "text": [
      "\n",
      "---------- 📍 Step 3: InferenceStep ----------\n",
      "🤖 Model Response:\n",
      "\u001b[33mThe current weather in Boulder, Colorado is mostly sunny with a high of 67°F and a low of 47°F. There's a slight chance of showers and thunderstorms this afternoon.\n",
      "\u001b[0m\n",
      "========== Query processing completed ========== \n",
      "\n",
      "\u001b[34m\n",
      "====================================================================================================\n",
      "Processing user query: are there any weather alerts for Boston at the moment?\n",
      "====================================================================================================\u001b[0m\n",
      "\n",
      "---------- 📍 Step 1: InferenceStep ----------\n",
      "🛠️ Tool call Generated:\n",
      "\u001b[33mTool call: get_alerts, Arguments: {'state': 'MA'}\u001b[0m\n",
      "\n",
      "---------- 📍 Step 2: ToolExecutionStep ----------\n",
      "🔧 Executing tool...\n"
     ]
    },
    {
     "data": {
      "text/html": [
       "<pre style=\"white-space:pre;overflow-x:auto;line-height:normal;font-family:Menlo,'DejaVu Sans Mono',consolas,'Courier New',monospace\"><span style=\"font-weight: bold\">{</span>\n",
       "<span style=\"color: #7fbf7f; text-decoration-color: #7fbf7f\">│   </span><span style=\"color: #008000; text-decoration-color: #008000\">'type'</span>: <span style=\"color: #008000; text-decoration-color: #008000\">'text'</span>,\n",
       "<span style=\"color: #7fbf7f; text-decoration-color: #7fbf7f\">│   </span><span style=\"color: #008000; text-decoration-color: #008000\">'text'</span>: <span style=\"color: #008000; text-decoration-color: #008000\">'\\nEvent: Flood Watch\\nArea: Hartford; Tolland; Western Franklin; Eastern Franklin; Western Hampshire; Western Hampden; Eastern Hampshire; Eastern Hampden\\nSeverity: Severe\\nDescription: * WHAT...Flooding caused by excessive rainfall continues to be\\npossible.\\n\\n* WHERE...Portions of northern Connecticut, including the following\\nareas, Hartford CT and Tolland CT and western Massachusetts,\\nincluding the following areas, Eastern Franklin MA, Eastern\\nHampden MA, Eastern Hampshire MA, Western Franklin MA, Western\\nHampden MA and Western Hampshire MA.\\n\\n* WHEN...From late tonight through Saturday morning.\\n\\n* IMPACTS...Excessive runoff may result in flooding of rivers,\\ncreeks, streams, and other low-lying and flood-prone locations.\\n\\n* ADDITIONAL DETAILS...\\n- Moderate to heavy rains expected Friday morning through\\nSaturday morning with 2-3 inches of rain possible. Given the\\nwet antecedent conditions and already high flows, continued\\nriver flooding expected along the southern CT river, and\\npossibly into the Northern CT river.  Minor street and\\nnuisance flooding is possible, but flash flooding is\\nunlikely.\\n- http://www.weather.gov/safety/flood\\nInstructions: You should monitor later forecasts and be alert for possible Flood\\nWarnings. Those living in areas prone to flooding should be prepared\\nto take action should flooding develop.\\n    \\n---\\n\\nEvent: Flood Watch\\nArea: Northern Litchfield; Southern Litchfield; Northern Berkshire; Southern Berkshire; Southern Fulton; Montgomery; Northern Saratoga; Schoharie; Western Schenectady; Eastern Schenectady; Southern Saratoga; Western Albany; Eastern Albany; Western Rensselaer; Eastern Rensselaer; Western Greene; Eastern Greene; Western Columbia; Eastern Columbia; Western Ulster; Eastern Ulster; Western Dutchess; Eastern Dutchess; Northern Fulton; Southeast Warren; Southern Washington; Bennington; Western Windham; Eastern Windham\\nSeverity: Severe\\nDescription: * WHAT...Flooding caused by excessive rainfall continues to be\\npossible.\\n\\n* WHERE...Portions of northwestern Connecticut, including the\\nfollowing areas, Litchfield County, western Massachusetts,\\nincluding Berkshire County, in eastern New York, including the\\neastern Catskills, mid Hudson Valley, the Greater Capital Region,\\ncentral and eastern Mohawk Valley, the Taconics, Schoharie Valley,\\nHelderbergs and southern reaches of the Lake George and northern\\nSaratoga Region, as well as southern Vermont including Bennington\\nand Windham Counties.\\n\\n* WHEN...From late tonight through Saturday morning.\\n\\n* IMPACTS...Excessive runoff may result in flooding of rivers,\\ncreeks, streams, and other low-lying and flood-prone locations.\\nCreeks and streams may rise out of their banks. Flooding may occur\\nin poor drainage and urban areas.\\n\\n* ADDITIONAL DETAILS...\\n- A low pressure system will bring 1.5 to 3 inches of rainfall\\nto the region late tonight into Saturday morning. This\\nrainfall will fall on already saturated soils from heavy\\nrainfall from the past weekend into early this week.  Some\\nisolated flash flooding can not be ruled out.  Minor flooding\\nof main stem rivers, creeks and small streams may occur.\\nSome rivers that could reach the minor flood stage include\\nthe Esopus, Hoosic, and Housatonic.\\n- http://www.weather.gov/safety/flood\\nInstructions: You should monitor later forecasts and be alert for possible Flood\\nWarnings. Those living in areas prone to flooding should be prepared\\nto take action should flooding develop.\\n    '</span>,\n",
       "<span style=\"color: #7fbf7f; text-decoration-color: #7fbf7f\">│   </span><span style=\"color: #008000; text-decoration-color: #008000\">'annotations'</span>: <span style=\"color: #800080; text-decoration-color: #800080; font-style: italic\">None</span>\n",
       "<span style=\"font-weight: bold\">}</span>\n",
       "</pre>\n"
      ],
      "text/plain": [
       "\u001b[1m{\u001b[0m\n",
       "\u001b[2;32m│   \u001b[0m\u001b[32m'type'\u001b[0m: \u001b[32m'text'\u001b[0m,\n",
       "\u001b[2;32m│   \u001b[0m\u001b[32m'text'\u001b[0m: \u001b[32m'\\nEvent: Flood Watch\\nArea: Hartford; Tolland; Western Franklin; Eastern Franklin; Western Hampshire; Western Hampden; Eastern Hampshire; Eastern Hampden\\nSeverity: Severe\\nDescription: * WHAT...Flooding caused by excessive rainfall continues to be\\npossible.\\n\\n* WHERE...Portions of northern Connecticut, including the following\\nareas, Hartford CT and Tolland CT and western Massachusetts,\\nincluding the following areas, Eastern Franklin MA, Eastern\\nHampden MA, Eastern Hampshire MA, Western Franklin MA, Western\\nHampden MA and Western Hampshire MA.\\n\\n* WHEN...From late tonight through Saturday morning.\\n\\n* IMPACTS...Excessive runoff may result in flooding of rivers,\\ncreeks, streams, and other low-lying and flood-prone locations.\\n\\n* ADDITIONAL DETAILS...\\n- Moderate to heavy rains expected Friday morning through\\nSaturday morning with 2-3 inches of rain possible. Given the\\nwet antecedent conditions and already high flows, continued\\nriver flooding expected along the southern CT river, and\\npossibly into the Northern CT river.  Minor street and\\nnuisance flooding is possible, but flash flooding is\\nunlikely.\\n- http://www.weather.gov/safety/flood\\nInstructions: You should monitor later forecasts and be alert for possible Flood\\nWarnings. Those living in areas prone to flooding should be prepared\\nto take action should flooding develop.\\n    \\n---\\n\\nEvent: Flood Watch\\nArea: Northern Litchfield; Southern Litchfield; Northern Berkshire; Southern Berkshire; Southern Fulton; Montgomery; Northern Saratoga; Schoharie; Western Schenectady; Eastern Schenectady; Southern Saratoga; Western Albany; Eastern Albany; Western Rensselaer; Eastern Rensselaer; Western Greene; Eastern Greene; Western Columbia; Eastern Columbia; Western Ulster; Eastern Ulster; Western Dutchess; Eastern Dutchess; Northern Fulton; Southeast Warren; Southern Washington; Bennington; Western Windham; Eastern Windham\\nSeverity: Severe\\nDescription: * WHAT...Flooding caused by excessive rainfall continues to be\\npossible.\\n\\n* WHERE...Portions of northwestern Connecticut, including the\\nfollowing areas, Litchfield County, western Massachusetts,\\nincluding Berkshire County, in eastern New York, including the\\neastern Catskills, mid Hudson Valley, the Greater Capital Region,\\ncentral and eastern Mohawk Valley, the Taconics, Schoharie Valley,\\nHelderbergs and southern reaches of the Lake George and northern\\nSaratoga Region, as well as southern Vermont including Bennington\\nand Windham Counties.\\n\\n* WHEN...From late tonight through Saturday morning.\\n\\n* IMPACTS...Excessive runoff may result in flooding of rivers,\\ncreeks, streams, and other low-lying and flood-prone locations.\\nCreeks and streams may rise out of their banks. Flooding may occur\\nin poor drainage and urban areas.\\n\\n* ADDITIONAL DETAILS...\\n- A low pressure system will bring 1.5 to 3 inches of rainfall\\nto the region late tonight into Saturday morning. This\\nrainfall will fall on already saturated soils from heavy\\nrainfall from the past weekend into early this week.  Some\\nisolated flash flooding can not be ruled out.  Minor flooding\\nof main stem rivers, creeks and small streams may occur.\\nSome rivers that could reach the minor flood stage include\\nthe Esopus, Hoosic, and Housatonic.\\n- http://www.weather.gov/safety/flood\\nInstructions: You should monitor later forecasts and be alert for possible Flood\\nWarnings. Those living in areas prone to flooding should be prepared\\nto take action should flooding develop.\\n    '\u001b[0m,\n",
       "\u001b[2;32m│   \u001b[0m\u001b[32m'annotations'\u001b[0m: \u001b[3;35mNone\u001b[0m\n",
       "\u001b[1m}\u001b[0m\n"
      ]
     },
     "metadata": {},
     "output_type": "display_data"
    },
    {
     "name": "stdout",
     "output_type": "stream",
     "text": [
      "\n",
      "---------- 📍 Step 3: InferenceStep ----------\n",
      "🤖 Model Response:\n",
      "\u001b[33mThere is a Flood Watch for Boston, which includes the following areas:\n",
      "\n",
      "* Hartford\n",
      "* Tolland\n",
      "* Western Franklin\n",
      "* Eastern Franklin\n",
      "* Western Hampshire\n",
      "* Western Hampden\n",
      "* Eastern Hampshire\n",
      "* Eastern Hampden\n",
      "\n",
      "The flood watch is in effect from late tonight through Saturday morning. Excessive runoff may result in flooding of rivers, creeks, streams, and other low-lying and flood-prone locations. Minor street and nuisance flooding is possible, but flash flooding is unlikely.\n",
      "\u001b[0m\n",
      "========== Query processing completed ========== \n",
      "\n"
     ]
    }
   ],
   "source": [
    "stream=False\n",
    "user_prompts = [\n",
    "       \"what is the weather in boulder colorado\",\n",
    "       \"are there any weather alerts for Boston at the moment?\",\n",
    "]\n",
    "\n",
    "\n",
    "for prompt in user_prompts:\n",
    "    # Generate a new Unique Identifier for each session \n",
    "    new_uuid = uuid.uuid4()\n",
    "    session_id = agent.create_session(f\"web-session-{new_uuid}\")\n",
    "\n",
    "    cprint(f\"\\n{'='*100}\\nProcessing user query: {prompt}\\n{'='*100}\", \"blue\")\n",
    "\n",
    "    \n",
    "    response = agent.create_turn(\n",
    "        messages=[\n",
    "            {\n",
    "                \"role\": \"user\",\n",
    "                \"content\": prompt,\n",
    "            }\n",
    "        ],\n",
    "        session_id=session_id,\n",
    "        stream=stream\n",
    "    )\n",
    "    if stream:\n",
    "        for log in EventLogger().log(response):\n",
    "            log.print()\n",
    "    else:\n",
    "        step_printer(response.steps) # print the steps of an agent's response in a formatted way. "
   ]
  },
  {
   "cell_type": "code",
   "execution_count": null,
   "id": "74cb2d2c-b61a-480b-8c81-dd2e2871102c",
   "metadata": {},
   "outputs": [],
   "source": []
  }
 ],
 "metadata": {
  "kernelspec": {
   "display_name": "Python 3 (ipykernel)",
   "language": "python",
   "name": "python3"
  },
  "language_info": {
   "codemirror_mode": {
    "name": "ipython",
    "version": 3
   },
   "file_extension": ".py",
   "mimetype": "text/x-python",
   "name": "python",
   "nbconvert_exporter": "python",
   "pygments_lexer": "ipython3",
   "version": "3.12.5"
  }
 },
 "nbformat": 4,
 "nbformat_minor": 5
}
