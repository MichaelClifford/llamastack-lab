{
 "cells": [
  {
   "cell_type": "markdown",
   "id": "7f75a76c-cb61-4c32-a334-a5bcd41f4e7d",
   "metadata": {},
   "source": [
    "# Exploring ReAct Agents and Tool Use\n",
    "\n",
    "In this section, we will explore ReAct agents and how they can leverage multiple tools to perform tasks.\n",
    "\n",
    "- Understand the ReAct framework and its components.\n",
    "- See how a ReAct agent combines reasoning and acting.\n",
    "- Utilize both built-in and custom tools with a ReAct agent.\n",
    "- Observe the steps a ReAct agent takes to solve a problem.\n",
    "\n",
    "> **Note:**\n",
    "> This section builds upon the basic agent concepts introduced previously. Familiarity with terms like \"Turns\" and \"Steps\" will be helpful.\n",
    ">"
   ]
  },
  {
   "cell_type": "markdown",
   "id": "b34ff26d-834f-45ce-998d-988f9363aa33",
   "metadata": {},
   "source": [
    "**Regular AI agents** often work by taking a prompt and generating a response directly, maybe using some internal knowledge or a single tool call. They are often more reactive and limited to predefined functions or knowledge.\n",
    "\n",
    "A **ReAct agent** (short for **Reasoning and Acting**) is different because it doesn't just generate an immediate response. Instead, it uses a loop of:\n",
    "\n",
    "1.  **Reasoning (Thought):** It thinks step-by-step about the problem and what needs to be done.\n",
    "2.  **Acting (Action):** Based on its thought, it decides to perform an action, often using external tools (like searching the web, running code, or interacting with an API).\n",
    "3.  **Observing (Observation):** It then observes the result of that action.\n",
    "\n",
    "This **Reason-Act-Observe loop** allows the ReAct agent to dynamically plan, gather information, and refine its approach based on what it learns from its actions, making it much more capable of handling complex tasks and interacting with dynamic environments than a regular agent.\n",
    "\n",
    "Think of it this way:\n",
    "\n",
    "* **Regular AI Agents:** Primarily take input and give output based on internal knowledge or a single action. They are often reactive.\n",
    "* **ReAct Agents:** Use a **Reason-Act-Observe loop**. They **think** about the problem, decide on an **action** (like using a tool), and then **observe** the result to inform their next thought and action. This makes them more dynamic and capable of complex, multi-step tasks."
   ]
  },
  {
   "cell_type": "markdown",
   "id": "3d963266-00c8-4857-a701-34a9bfa8562a",
   "metadata": {},
   "source": [
    "## Adding a new Model to our exising Llama Stack Server\n",
    "\n",
    "Before we dive into **ReAct Agents**, let's add another model to our server. It's crucial to understand that different models are specifically designed and excel at different tasks, often varying based on their size and training.\n",
    "\n",
    "Recognizing this is important because:\n",
    "\n",
    "* **Size vs. Capability & Cost:** Larger models (like 7B+ parameters) often handle complex instructions, nuanced language, and broader knowledge better, but require more computing resources and can be slower/more expensive. Smaller models (like 3B parameters) are faster, cheaper, and can run on less powerful hardware, often sufficient for simpler or more focused tasks.\n",
    "* **Task Specialization:** Some models are fine-tuned for specific \"skills\" like code generation, summarization, or following structured instructions (which is key for agents using tools). A model strong in one area might underperform in another compared to a specialist.\n",
    "* **Balancing Performance Needs:** For a given application, you might use a smaller, faster model for initial filtering or simple responses, and only route complex queries to a larger, more capable (and costly) model.\n",
    "\n",
    "Understanding these trade-offs allows you to choose the best model for a given job. We're adding this specific model now because its capabilities align well with the agent tasks we'll be working with next.\n",
    "\n",
    "For this section of the lab, we chose the `granite3.2:8b` model due to its excellent **tool calling capabilities**, manageable **size**, and strong **natural language interpretation**."
   ]
  },
  {
   "cell_type": "markdown",
   "id": "25264a21-3370-4f91-9166-c3ed32d77def",
   "metadata": {},
   "source": [
    "### Adding the model\n",
    "\n",
    "First, let's get `ollama` to \"run\" or \"load\" the model: "
   ]
  },
  {
   "cell_type": "code",
   "execution_count": null,
   "id": "542051b1-f228-4e3f-999b-f6711f9c9cb3",
   "metadata": {},
   "outputs": [],
   "source": [
    "!ollama run granite3.2:8b \"Just say hello\" --keepalive 60m\n"
   ]
  },
  {
   "cell_type": "markdown",
   "id": "ecf2aec1-6df3-4ea6-a78b-03bab4891c3f",
   "metadata": {},
   "source": [
    "Second, le'ts define our `client` normally, just like we did in the previous sections: "
   ]
  },
  {
   "cell_type": "code",
   "execution_count": null,
   "id": "5fafd118-cfdf-457e-8b10-c84b19bc9118",
   "metadata": {},
   "outputs": [],
   "source": [
    "from llama_stack_client import LlamaStackClient\n",
    "LLAMA_STACK_SERVER='http://localhost:8321'\n",
    "client = LlamaStackClient(\n",
    "    base_url=LLAMA_STACK_SERVER,\n",
    ")\n",
    "\n",
    "models = client.models.list()\n",
    "print(\"--- Available models: ---\")\n",
    "for m in models:\n",
    "    print(f\"{m.identifier} - {m.provider_id} - {m.provider_resource_id}\")"
   ]
  },
  {
   "cell_type": "markdown",
   "id": "7eddeb45-8edd-4cfd-baa6-84b729861b32",
   "metadata": {},
   "source": [
    "Third, Register the model using the `client.models.register` function, and print out the updated models list with `client.models.list` to verify success"
   ]
  },
  {
   "cell_type": "code",
   "execution_count": null,
   "id": "410b2b30-b33d-49f5-b1c9-e6b44aa1b341",
   "metadata": {},
   "outputs": [],
   "source": [
    "# Register a model\n",
    "model = client.models.register(\n",
    "    model_id=\"granite3.2:8b\",\n",
    "    model_type=\"llm\",\n",
    "    provider_id=\"ollama\",\n",
    "    provider_model_id=\"granite3.2:8b\",\n",
    "    metadata={\"description\": \"granite3.2:8b via ollama\"}\n",
    ")\n",
    "\n",
    "models = client.models.list()\n",
    "print(\"--- Available models: ---\")\n",
    "for m in models:\n",
    "    print(f\"{m.identifier} - {m.provider_id} - {m.provider_resource_id}\")"
   ]
  },
  {
   "cell_type": "markdown",
   "id": "63f8314d-d563-4856-bdd2-e7a1afcba313",
   "metadata": {},
   "source": [
    "> **Note:**\n",
    "> Alternitivly, you could have also just run llama-stack-client commands instead of the python code: \n",
    "> ```bash\n",
    "> # Register a Model\n",
    "> llama-stack-client models register --provider-id ollama --provider-model-id granite3.2:8b granite3.2:8b\n",
    "> # List available models\n",
    "> llama-stack-client models list\n",
    "> #To unregister, simply run: \n",
    "> llama-stack-client models unregister granite3.2:8b\n",
    "```"
   ]
  },
  {
   "cell_type": "markdown",
   "id": "b44a8cbd-3393-4837-9fc2-6f5cac8c0947",
   "metadata": {},
   "source": [
    "## Our First ReAct Agent\n",
    "### Setting up steps\n",
    "In our first scenario, we will follow the same example from preivous sections just to see how the ReAct agent handles that kind of situation. \n",
    "\n",
    "We've combined these steps to make it easier and faster for you, in this step we will do the following:\n",
    "\n",
    "* Installing the necessary Python libraries for this lab.\n",
    "* Import `get_location` function from a library instead of having it's code directly in the notebook `from src.client_tools import get_location`\n",
    "* Initialize the *Client* and select the desired model\n"
   ]
  },
  {
   "cell_type": "code",
   "execution_count": null,
   "id": "1ea4a7f1-e598-4f13-90a6-fd94945a90fb",
   "metadata": {},
   "outputs": [],
   "source": [
    "!pip install -U llama-stack-client==0.2.5 dotenv > /dev/null 2>&1 && echo \"pip Python Prerequisites installed succesfuly\"\n",
    "\n",
    "import os\n",
    "# Load environment variables from .env file\n",
    "from dotenv import load_dotenv\n",
    "load_dotenv()\n",
    "\n",
    "# for communication with Llama Stack\n",
    "from llama_stack_client import LlamaStackClient\n",
    "\n",
    "# These libraries are just here to print the results from the agent in a more human-readable way \n",
    "from src.utils import step_printer\n",
    "from src.client_tools import get_location\n",
    "from termcolor import cprint\n",
    "import uuid\n",
    "from llama_stack_client.lib.agents.event_logger import EventLogger\n",
    "stream=False ## Defaulting to False, you can change this throughout the section to \"True\" if you wanted to see the output in another format (Using EventLogger)\n",
    "\n",
    "# for our lab, we will just define our variables manualy here, in a regular application, this would be ready directly from the local .env file and we would comment these lines out\n",
    "os.environ['LLAMA_STACK_SERVER'] = 'http://localhost:8321'\n",
    "\n",
    "# We will be using the Tavily web search service (docs.tavily.com/)\n",
    "tavily_search_api_key='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'\n",
    "provider_data = {\"tavily_search_api_key\": tavily_search_api_key}\n",
    "\n",
    "from llama_stack_client import LlamaStackClient\n",
    "LLAMA_STACK_SERVER=os.getenv(\"LLAMA_STACK_SERVER\")\n",
    "\n",
    "client = LlamaStackClient(\n",
    "    base_url=LLAMA_STACK_SERVER,\n",
    "    provider_data=provider_data\n",
    ")\n",
    "# List available models and select from allowed models list\n",
    "allowed_models_list=[\"granite3.2:8b\"]\n",
    "selected_model = None\n",
    "\n",
    "models = client.models.list()\n",
    "\n",
    "print(\"--- Available models: ---\")\n",
    "for m in models:\n",
    "    print(f\"{m.identifier} - {m.provider_id} - {m.provider_resource_id}\")\n",
    "    # Check if the model identifier contains any of the allowed substrings\n",
    "    if any(substring in m.identifier for substring in allowed_models_list):\n",
    "        # Only set selected_model if it hasn't been set yet\n",
    "        if selected_model is None:\n",
    "            selected_model = m.identifier\n",
    "           \n",
    "# If no allowed model was found, you might want to handle that case\n",
    "if selected_model is None:\n",
    "    print(\"No allowed model found in the list.\")\n",
    "\n",
    "\n",
    "print(f\"Selected model (from allowed list): {selected_model}\")\n",
    "            # Removed the break here to show all available models, but the selection logic remains picking the first one\n",
    "\n",
    "\n",
    "model = selected_model"
   ]
  },
  {
   "cell_type": "markdown",
   "id": "701e3788",
   "metadata": {},
   "source": [
    "### Review the ReAct Agent Chain of Thought\n",
    "\n",
    "Now that our server is set up and we have a model capable of tool calling, let's see our **ReAct agent** in action. We will give it a specific, multi-step task:\n",
    "\n",
    "\"**search for any weather-related risks in my area that could disrupt network connectivity or system availability?**\"\n",
    "\n",
    "Watch the output closely. Unlike a simple model call, you will see the agent's \"Chain of Thought\" unfold. The agent will:\n",
    "\n",
    "1.  **Think** about the request and plan the next step.\n",
    "2.  Decide on an **Action**, often involving using one of the available tools (like a search engine or a location service).\n",
    "3.  Receive an **Observation** which is the result of the action.\n",
    "4.  Repeat the **Think → Action → Observation** loop, building on the observations, until it formulates a final answer."
   ]
  },
  {
   "cell_type": "code",
   "execution_count": null,
   "id": "aed19246",
   "metadata": {},
   "outputs": [],
   "source": [
    "from llama_stack_client.lib.agents.react.agent import ReActAgent\n",
    "from llama_stack_client.lib.agents.react.tool_parser import ReActOutput\n",
    "\n",
    "stream=False\n",
    "agent = ReActAgent(\n",
    "            client=client,\n",
    "            model=model,\n",
    "            #model='meta-llama/Llama-3.1-8B-Instruct',\n",
    "            tools=[get_location, \"builtin::websearch\"],\n",
    "            response_format={\n",
    "                \"type\": \"json_schema\",\n",
    "                \"json_schema\": ReActOutput.model_json_schema(),\n",
    "            },\n",
    "            #sampling_params=sampling_params,\n",
    "        )\n",
    "user_prompts = [\n",
    "    \"search for any weather-related risks in my area that could disrupt network connectivity or system availability?\"\n",
    "]\n",
    "session_id = agent.create_session(\"web1\")\n",
    "for prompt in user_prompts:\n",
    "    print(\"\\n\"+\"=\"*50)\n",
    "    print(f\"Processing user query: {prompt}\", \"blue\")\n",
    "    print(\"=\"*50)\n",
    "    response = agent.create_turn(\n",
    "        messages=[\n",
    "            {\n",
    "                \"role\": \"user\",\n",
    "                \"content\": prompt,\n",
    "            }\n",
    "        ],\n",
    "        session_id=session_id,\n",
    "        stream=stream\n",
    "    )\n",
    "    if stream:\n",
    "        for log in EventLogger().log(response):\n",
    "            log.print()\n",
    "    else:\n",
    "        step_printer(response.steps) # print the steps of an agent's response in a formatted way. "
   ]
  },
  {
   "cell_type": "markdown",
   "id": "a97399f7-3613-4b6c-95c1-666352afdc00",
   "metadata": {},
   "source": [
    "### Analyzing the Agent's Execution\n",
    "\n",
    "Let's break down the output we just saw to understand how the ReAct agent processed the query:\n",
    "\n",
    "* **Step 1 (Inference):** The agent receives the query. Its initial **Thought** is that it needs the user's location before it can search for weather risks *in that area*. It decides its first **Action** should be to use the `get_location` tool.\n",
    "* **Step 2 (Tool Execution):** The `get_location` tool is executed. The **Observation** is the result returned by the tool, which is the user's location: \"Columbus, Ohio, US\". (At the time of running this, this is where the cloud instance was running)\n",
    "* **Step 3 (Inference):** With the location obtained, the agent has a new **Thought**: It now knows *where* to search. Its next **Action** is to use the `web_search` tool, formulating the search query \"weather-related risks in Columbus, Ohio\".\n",
    "* **Step 4 (Tool Execution):** The `web_search` tool is executed with the generated query. The **Observation** is the search results returned by the web search tool, containing snippets from various sources about climate risks, precipitation, heat, and severe weather outlooks in Columbus, Ohio.\n",
    "* **Step 5 (Inference):** The agent processes the search results (the Observation from Step 4). Its final **Thought** is that it has enough information. It then formulates and provides the final **Answer**, summarizing the key weather risks found (increased precipitation/flooding and heat) and noting their potential impact on network connectivity and system availability, directly addressing the user's original question.\n",
    "\n",
    "This sequence clearly illustrates the **Reasoning (Thought), Action (Tool Use), and Observation (Tool Output)** loop that defines the ReAct agent's problem-solving process."
   ]
  },
  {
   "cell_type": "markdown",
   "id": "048181f3-8f1e-40ae-ad14-90f959deae01",
   "metadata": {},
   "source": [
    "## Lab Summary: Exploring ReAct Agents and Tool Use\n",
    "\n",
    "In this Lab, you delved into the world of **ReAct agents** within the Llama Stack framework, understanding how these agents go beyond simple input-output by combining reasoning and action. You learned how ReAct agents can effectively leverage multiple tools to accomplish complex, multi-step tasks.\n",
    "\n",
    "You learned how to:\n",
    "\n",
    "* **Understand the ReAct framework:** You explored the core concept of the **Reason-Act-Observe loop** that defines how ReAct agents operate, contrasting it with more traditional agents.\n",
    "* **Add and manage models:** You practiced adding a new model (`granite3.2:8b`) to your Llama Stack Server programmatically using the Python client and noted how the server makes models available via a unified API.\n",
    "* **Build and configure a ReAct agent:** You initialized a `ReActAgent` instance, providing it access to both built-in (`websearch`) and custom (`get_location`) tools.\n",
    "* **Observe the agent's Chain of Thought:** By examining the output steps, you saw the agent's internal reasoning process (Thought), its decisions to use tools (Action), and the results it received from those tools (Observation).\n",
    "* **Process complex queries:** You experienced how the agent uses the ReAct loop to break down a complex user query into smaller steps, gathering necessary information via tools before formulating a final answer.\n",
    "\n",
    "Through these exercises, you gained practical experience with setting up and running ReAct agents, highlighting their power in dynamic problem-solving and appreciating how the Llama Stack framework facilitates the integration of models and tools necessary for agentic workflows."
   ]
  }
 ],
 "metadata": {
  "kernelspec": {
   "display_name": "Python 3 (ipykernel)",
   "language": "python",
   "name": "python3"
  },
  "language_info": {
   "codemirror_mode": {
    "name": "ipython",
    "version": 3
   },
   "file_extension": ".py",
   "mimetype": "text/x-python",
   "name": "python",
   "nbconvert_exporter": "python",
   "pygments_lexer": "ipython3",
   "version": "3.12.5"
  }
 },
 "nbformat": 4,
 "nbformat_minor": 5
}
