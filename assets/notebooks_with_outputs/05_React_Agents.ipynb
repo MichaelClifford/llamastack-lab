{
 "cells": [
  {
   "cell_type": "markdown",
   "id": "7f75a76c-cb61-4c32-a334-a5bcd41f4e7d",
   "metadata": {},
   "source": [
    "# Exploring ReAct Agents and Tool Use\n",
    "\n",
    "In this section, we will explore ReAct agents and how they can leverage multiple tools to perform tasks.\n",
    "\n",
    "- Understand the ReAct framework and its components.\n",
    "- See how a ReAct agent combines reasoning and acting.\n",
    "- Utilize both built-in and custom tools with a ReAct agent.\n",
    "- Observe the steps a ReAct agent takes to solve a problem.\n",
    "\n",
    "> **Note:**\n",
    "> This section builds upon the basic agent concepts introduced previously. Familiarity with terms like \"Turns\" and \"Steps\" will be helpful.\n",
    ">"
   ]
  },
  {
   "cell_type": "markdown",
   "id": "b34ff26d-834f-45ce-998d-988f9363aa33",
   "metadata": {},
   "source": [
    "**Regular AI agents** often work by taking a prompt and generating a response directly, maybe using some internal knowledge or a single tool call. They are often more reactive and limited to predefined functions or knowledge.\n",
    "\n",
    "A **ReAct agent** (short for **Reasoning and Acting**) is different because it doesn't just generate an immediate response. Instead, it uses a loop of:\n",
    "\n",
    "1.  **Reasoning (Thought):** It thinks step-by-step about the problem and what needs to be done.\n",
    "2.  **Acting (Action):** Based on its thought, it decides to perform an action, often using external tools (like searching the web, running code, or interacting with an API).\n",
    "3.  **Observing (Observation):** It then observes the result of that action.\n",
    "\n",
    "This **Reason-Act-Observe loop** allows the ReAct agent to dynamically plan, gather information, and refine its approach based on what it learns from its actions, making it much more capable of handling complex tasks and interacting with dynamic environments than a regular agent.\n",
    "\n",
    "Think of it this way:\n",
    "\n",
    "* **Regular AI Agents:** Primarily take input and give output based on internal knowledge or a single action. They are often reactive.\n",
    "* **ReAct Agents:** Use a **Reason-Act-Observe loop**. They **think** about the problem, decide on an **action** (like using a tool), and then **observe** the result to inform their next thought and action. This makes them more dynamic and capable of complex, multi-step tasks."
   ]
  },
  {
   "cell_type": "markdown",
   "id": "3d963266-00c8-4857-a701-34a9bfa8562a",
   "metadata": {},
   "source": [
    "## Adding a new Model to our exising Llama Stack Server\n",
    "\n",
    "Before we dive into **ReAct Agents**, let's add another model to our server. It's crucial to understand that different models are specifically designed and excel at different tasks, often varying based on their size and training.\n",
    "\n",
    "Recognizing this is important because:\n",
    "\n",
    "* **Size vs. Capability & Cost:** Larger models (like 7B+ parameters) often handle complex instructions, nuanced language, and broader knowledge better, but require more computing resources and can be slower/more expensive. Smaller models (like 3B parameters) are faster, cheaper, and can run on less powerful hardware, often sufficient for simpler or more focused tasks.\n",
    "* **Task Specialization:** Some models are fine-tuned for specific \"skills\" like code generation, summarization, or following structured instructions (which is key for agents using tools). A model strong in one area might underperform in another compared to a specialist.\n",
    "* **Balancing Performance Needs:** For a given application, you might use a smaller, faster model for initial filtering or simple responses, and only route complex queries to a larger, more capable (and costly) model.\n",
    "\n",
    "Understanding these trade-offs allows you to choose the best model for a given job. We're adding this specific model now because its capabilities align well with the agent tasks we'll be working with next.\n",
    "\n",
    "For this section of the lab, we chose the `granite3.2:8b` model due to its excellent **tool calling capabilities**, manageable **size**, and strong **natural language interpretation**."
   ]
  },
  {
   "cell_type": "markdown",
   "id": "25264a21-3370-4f91-9166-c3ed32d77def",
   "metadata": {},
   "source": [
    "### Adding the model\n",
    "\n",
    "First, let's get `ollama` to \"run\" or \"load\" the model: "
   ]
  },
  {
   "cell_type": "code",
   "execution_count": 1,
   "id": "542051b1-f228-4e3f-999b-f6711f9c9cb3",
   "metadata": {},
   "outputs": [
    {
     "name": "stdout",
     "output_type": "stream",
     "text": [
      "\u001b[?25l\u001b[?2026h\u001b[?25l\u001b[1G\u001b[K\u001b[?25h\u001b[?2026l\u001b[2K\u001b[1G\u001b[?25hHello\u001b[?25l\u001b[?25h!\u001b[?25l\u001b[?25h How\u001b[?25l\u001b[?25h can\u001b[?25l\u001b[?25h I\u001b[?25l\u001b[?25h assist\u001b[?25l\u001b[?25h you\u001b[?25l\u001b[?25h today\u001b[?25l\u001b[?25h?\u001b[?25l\u001b[?25h\n",
      "\n",
      "\u001b[?25l\u001b[?25h"
     ]
    }
   ],
   "source": [
    "!ollama run granite3.2:8b \"Just say hello\" --keepalive 60m\n"
   ]
  },
  {
   "cell_type": "markdown",
   "id": "ecf2aec1-6df3-4ea6-a78b-03bab4891c3f",
   "metadata": {},
   "source": [
    "Second, le'ts define our `client` normally, just like we did in the previous sections: "
   ]
  },
  {
   "cell_type": "code",
   "execution_count": 2,
   "id": "5fafd118-cfdf-457e-8b10-c84b19bc9118",
   "metadata": {},
   "outputs": [
    {
     "name": "stdout",
     "output_type": "stream",
     "text": [
      "--- Available models: ---\n",
      "all-MiniLM-L6-v2 - ollama - all-minilm:latest\n",
      "meta-llama/Llama-3.2-3B-Instruct - ollama - llama3.2:3b-instruct-fp16\n"
     ]
    }
   ],
   "source": [
    "from llama_stack_client import LlamaStackClient\n",
    "LLAMA_STACK_SERVER='http://localhost:8321'\n",
    "client = LlamaStackClient(\n",
    "    base_url=LLAMA_STACK_SERVER,\n",
    ")\n",
    "\n",
    "models = client.models.list()\n",
    "print(\"--- Available models: ---\")\n",
    "for m in models:\n",
    "    print(f\"{m.identifier} - {m.provider_id} - {m.provider_resource_id}\")"
   ]
  },
  {
   "cell_type": "markdown",
   "id": "7eddeb45-8edd-4cfd-baa6-84b729861b32",
   "metadata": {},
   "source": [
    "Third, Register the model using the `client.models.register` function, and print out the updated models list with `client.models.list` to verify success"
   ]
  },
  {
   "cell_type": "code",
   "execution_count": 3,
   "id": "410b2b30-b33d-49f5-b1c9-e6b44aa1b341",
   "metadata": {},
   "outputs": [
    {
     "name": "stdout",
     "output_type": "stream",
     "text": [
      "--- Available models: ---\n",
      "all-MiniLM-L6-v2 - ollama - all-minilm:latest\n",
      "meta-llama/Llama-3.2-3B-Instruct - ollama - llama3.2:3b-instruct-fp16\n",
      "granite3.2:8b - ollama - granite3.2:8b\n"
     ]
    }
   ],
   "source": [
    "# Register a model\n",
    "model = client.models.register(\n",
    "    model_id=\"granite3.2:8b\",\n",
    "    model_type=\"llm\",\n",
    "    provider_id=\"ollama\",\n",
    "    provider_model_id=\"granite3.2:8b\",\n",
    "    metadata={\"description\": \"granite3.2:8b via ollama\"}\n",
    ")\n",
    "\n",
    "models = client.models.list()\n",
    "print(\"--- Available models: ---\")\n",
    "for m in models:\n",
    "    print(f\"{m.identifier} - {m.provider_id} - {m.provider_resource_id}\")"
   ]
  },
  {
   "cell_type": "markdown",
   "id": "b44a8cbd-3393-4837-9fc2-6f5cac8c0947",
   "metadata": {},
   "source": [
    "## Our First ReAct Agent\n",
    "### Setting up steps\n",
    "In our first scenario, we will follow the same example from preivous sections just to see how the ReAct agent handles that kind of situation. \n",
    "\n",
    "We've combined these steps to make it easier and faster for you, in this step we will do the following:\n",
    "\n",
    "* Installing the necessary Python libraries for this lab.\n",
    "* Import `get_location` function from a library instead of having it's code directly in the notebook `from src.client_tools import get_location`\n",
    "* Initialize the *Client* and select the desired model\n"
   ]
  },
  {
   "cell_type": "markdown",
   "id": "63f8314d-d563-4856-bdd2-e7a1afcba313",
   "metadata": {},
   "source": [
    "> **Note:**\n",
    "> Alternitivly, you could have also just run llama-stack-client commands instead of the python code: \n",
    "> ```bash\n",
    "> # Register a Model\n",
    "> llama-stack-client models register --provider-id ollama --provider-model-id granite3.2:8b granite3.2:8b\n",
    "> # List available models\n",
    "> llama-stack-client models list\n",
    "> #To unregister, simply run: \n",
    "> llama-stack-client models unregister granite3.2:8b\n",
    "```"
   ]
  },
  {
   "cell_type": "code",
   "execution_count": 4,
   "id": "1ea4a7f1-e598-4f13-90a6-fd94945a90fb",
   "metadata": {},
   "outputs": [
    {
     "name": "stdout",
     "output_type": "stream",
     "text": [
      "pip Python Prerequisites installed succesfuly\n",
      "--- Available models: ---\n",
      "all-MiniLM-L6-v2 - ollama - all-minilm:latest\n",
      "meta-llama/Llama-3.2-3B-Instruct - ollama - llama3.2:3b-instruct-fp16\n",
      "granite3.2:8b - ollama - granite3.2:8b\n",
      "Selected model (from allowed list): granite3.2:8b\n"
     ]
    }
   ],
   "source": [
    "!pip install -U llama-stack-client==0.2.5 dotenv > /dev/null 2>&1 && echo \"pip Python Prerequisites installed succesfuly\"\n",
    "\n",
    "import os\n",
    "# Load environment variables from .env file\n",
    "from dotenv import load_dotenv\n",
    "load_dotenv()\n",
    "\n",
    "# for communication with Llama Stack\n",
    "from llama_stack_client import LlamaStackClient\n",
    "\n",
    "# These libraries are just here to print the results from the agent in a more human-readable way \n",
    "from src.utils import step_printer\n",
    "from src.client_tools import get_location\n",
    "from termcolor import cprint\n",
    "import uuid\n",
    "from llama_stack_client.lib.agents.event_logger import EventLogger\n",
    "stream=False ## Defaulting to False, you can change this throughout the section to \"True\" if you wanted to see the output in another format (Using EventLogger)\n",
    "\n",
    "# for our lab, we will just define our variables manualy here, in a regular application, this would be ready directly from the local .env file and we would comment these lines out\n",
    "os.environ['LLAMA_STACK_SERVER'] = 'http://localhost:8321'\n",
    "\n",
    "# We will be using the Tavily web search service (docs.tavily.com/)\n",
    "tavily_search_api_key='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'\n",
    "provider_data = {\"tavily_search_api_key\": tavily_search_api_key}\n",
    "\n",
    "from llama_stack_client import LlamaStackClient\n",
    "LLAMA_STACK_SERVER=os.getenv(\"LLAMA_STACK_SERVER\")\n",
    "\n",
    "client = LlamaStackClient(\n",
    "    base_url=LLAMA_STACK_SERVER,\n",
    "    provider_data=provider_data\n",
    ")\n",
    "# List available models and select from allowed models list\n",
    "allowed_models_list=[\"granite3.2:8b\"]\n",
    "selected_model = None\n",
    "\n",
    "models = client.models.list()\n",
    "\n",
    "print(\"--- Available models: ---\")\n",
    "for m in models:\n",
    "    print(f\"{m.identifier} - {m.provider_id} - {m.provider_resource_id}\")\n",
    "    # Check if the model identifier contains any of the allowed substrings\n",
    "    if any(substring in m.identifier for substring in allowed_models_list):\n",
    "        # Only set selected_model if it hasn't been set yet\n",
    "        if selected_model is None:\n",
    "            selected_model = m.identifier\n",
    "           \n",
    "# If no allowed model was found, you might want to handle that case\n",
    "if selected_model is None:\n",
    "    print(\"No allowed model found in the list.\")\n",
    "\n",
    "\n",
    "print(f\"Selected model (from allowed list): {selected_model}\")\n",
    "            # Removed the break here to show all available models, but the selection logic remains picking the first one\n",
    "\n",
    "\n",
    "model = selected_model"
   ]
  },
  {
   "cell_type": "markdown",
   "id": "701e3788",
   "metadata": {},
   "source": [
    "### Review the ReAct Agent Chain of Thought\n",
    "\n",
    "Now that our server is set up and we have a model capable of tool calling, let's see our **ReAct agent** in action. We will give it a specific, multi-step task:\n",
    "\n",
    "\"**search for any weather-related risks in my area that could disrupt network connectivity or system availability?**\"\n",
    "\n",
    "Watch the output closely. Unlike a simple model call, you will see the agent's \"Chain of Thought\" unfold. The agent will:\n",
    "\n",
    "1.  **Think** about the request and plan the next step.\n",
    "2.  Decide on an **Action**, often involving using one of the available tools (like a search engine or a location service).\n",
    "3.  Receive an **Observation** which is the result of the action.\n",
    "4.  Repeat the **Think → Action → Observation** loop, building on the observations, until it formulates a final answer."
   ]
  },
  {
   "cell_type": "code",
   "execution_count": 6,
   "id": "aed19246",
   "metadata": {},
   "outputs": [
    {
     "name": "stdout",
     "output_type": "stream",
     "text": [
      "\n",
      "==================================================\n",
      "Processing user query: search for any weather-related risks in my area that could disrupt network connectivity or system availability? blue\n",
      "==================================================\n",
      "\n",
      "---------- 📍 Step 1: InferenceStep ----------\n",
      "🤖 Model Response:\n",
      "\u001b[33m{\n",
      "  \"thought\": \"I need to find out the current weather conditions and potential risks in the user's location that might affect network connectivity or system availability. I will use the 'get_location' tool to get the user's location, then perform a web search for weather-related risks.\",\n",
      "  \"action\": {\n",
      "    \"tool_name\": \"get_location\",\n",
      "    \"tool_params\": [{\"name\": \"query\", \"value\": \"my current location\"}]\n",
      "  },\n",
      "  \"answer\": null\n",
      "}\n",
      "\u001b[0m\n",
      "\n",
      "---------- 📍 Step 2: ToolExecutionStep ----------\n",
      "🔧 Executing tool...\n"
     ]
    },
    {
     "data": {
      "text/html": [
       "<pre style=\"white-space:pre;overflow-x:auto;line-height:normal;font-family:Menlo,'DejaVu Sans Mono',consolas,'Courier New',monospace\"><span style=\"color: #008000; text-decoration-color: #008000\">'Your current location is: Columbus, Ohio, US'</span>\n",
       "</pre>\n"
      ],
      "text/plain": [
       "\u001b[32m'Your current location is: Columbus, Ohio, US'\u001b[0m\n"
      ]
     },
     "metadata": {},
     "output_type": "display_data"
    },
    {
     "name": "stdout",
     "output_type": "stream",
     "text": [
      "\n",
      "---------- 📍 Step 3: InferenceStep ----------\n",
      "🤖 Model Response:\n",
      "\u001b[33m{\n",
      "  \"thought\": \"Now that I have the user's location, I will perform a web search to find any weather-related risks in Columbus, Ohio that could disrupt network connectivity or system availability.\",\n",
      "  \"action\": {\n",
      "    \"tool_name\": \"web_search\",\n",
      "    \"tool_params\": [{\"name\": \"query\", \"value\": \"weather-related risks in Columbus Ohio affecting network connectivity\"}]\n",
      "  },\n",
      "  \"answer\": null\n",
      "}\n",
      "\u001b[0m\n",
      "\n",
      "---------- 📍 Step 4: ToolExecutionStep ----------\n",
      "🔧 Executing tool...\n"
     ]
    },
    {
     "data": {
      "text/html": [
       "<pre style=\"white-space:pre;overflow-x:auto;line-height:normal;font-family:Menlo,'DejaVu Sans Mono',consolas,'Courier New',monospace\"><span style=\"font-weight: bold\">{</span>\n",
       "<span style=\"color: #7fbf7f; text-decoration-color: #7fbf7f\">│   </span><span style=\"color: #008000; text-decoration-color: #008000\">'query'</span>: <span style=\"color: #008000; text-decoration-color: #008000\">'weather-related risks in Columbus Ohio affecting network connectivity'</span>,\n",
       "<span style=\"color: #7fbf7f; text-decoration-color: #7fbf7f\">│   </span><span style=\"color: #008000; text-decoration-color: #008000\">'top_k'</span>: <span style=\"font-weight: bold\">[</span>\n",
       "<span style=\"color: #7fbf7f; text-decoration-color: #7fbf7f\">│   │   </span><span style=\"font-weight: bold\">{</span>\n",
       "<span style=\"color: #7fbf7f; text-decoration-color: #7fbf7f\">│   │   │   </span><span style=\"color: #008000; text-decoration-color: #008000\">'title'</span>: <span style=\"color: #008000; text-decoration-color: #008000\">'Weather in Columbus, Ohio'</span>,\n",
       "<span style=\"color: #7fbf7f; text-decoration-color: #7fbf7f\">│   │   │   </span><span style=\"color: #008000; text-decoration-color: #008000\">'url'</span>: <span style=\"color: #008000; text-decoration-color: #008000\">'https://www.weatherapi.com/'</span>,\n",
       "<span style=\"color: #7fbf7f; text-decoration-color: #7fbf7f\">│   │   │   </span><span style=\"color: #008000; text-decoration-color: #008000\">'content'</span>: <span style=\"color: #008000; text-decoration-color: #008000\">\"{'location': {'name': 'Columbus', 'region': 'Ohio', 'country': 'United States of America', 'lat': 39.9611, 'lon': -82.9989, 'tz_id': 'America/New_York', 'localtime_epoch': 1746678307, 'localtime': '2025-05-08 00:25'}, 'current': {'last_updated_epoch': 1746677700, 'last_updated': '2025-05-08 00:15', 'temp_c': 16.7, 'temp_f': 62.1, 'is_day': 0, 'condition': {'text': 'Partly cloudy', 'icon': '//cdn.weatherapi.com/weather/64x64/night/116.png', 'code': 1003}, 'wind_mph': 3.6, 'wind_kph': 5.8, 'wind_degree': 76, 'wind_dir': 'ENE', 'pressure_mb': 1017.0, 'pressure_in': 30.04, 'precip_mm': 0.0, 'precip_in': 0.0, 'humidity': 70, 'cloud': 50, 'feelslike_c': 16.7, 'feelslike_f': 62.1, 'windchill_c': 15.2, 'windchill_f': 59.4, 'heatindex_c': 15.1, 'heatindex_f': 59.1, 'dewpoint_c': 14.8, 'dewpoint_f': 58.6, 'vis_km': 16.0, 'vis_miles': 9.0, 'uv': 0.0, 'gust_mph': 6.9, 'gust_kph': 11.1}}\"</span>,\n",
       "<span style=\"color: #7fbf7f; text-decoration-color: #7fbf7f\">│   │   │   </span><span style=\"color: #008000; text-decoration-color: #008000\">'score'</span>: <span style=\"color: #008080; text-decoration-color: #008080; font-weight: bold\">0.8301477</span>,\n",
       "<span style=\"color: #7fbf7f; text-decoration-color: #7fbf7f\">│   │   │   </span><span style=\"color: #008000; text-decoration-color: #008000\">'raw_content'</span>: <span style=\"color: #800080; text-decoration-color: #800080; font-style: italic\">None</span>\n",
       "<span style=\"color: #7fbf7f; text-decoration-color: #7fbf7f\">│   │   </span><span style=\"font-weight: bold\">}</span>,\n",
       "<span style=\"color: #7fbf7f; text-decoration-color: #7fbf7f\">│   │   </span><span style=\"font-weight: bold\">{</span>\n",
       "<span style=\"color: #7fbf7f; text-decoration-color: #7fbf7f\">│   │   │   </span><span style=\"color: #008000; text-decoration-color: #008000\">'title'</span>: <span style=\"color: #008000; text-decoration-color: #008000\">'Risks &amp; Hazards | Ohio Committee for Severe Weather Awareness'</span>,\n",
       "<span style=\"color: #7fbf7f; text-decoration-color: #7fbf7f\">│   │   │   </span><span style=\"color: #008000; text-decoration-color: #008000\">'url'</span>: <span style=\"color: #008000; text-decoration-color: #008000\">'https://weathersafety.ohio.gov/weather-safety/risks-and-hazards'</span>,\n",
       "<span style=\"color: #7fbf7f; text-decoration-color: #7fbf7f\">│   │   │   </span><span style=\"color: #008000; text-decoration-color: #008000\">'content'</span>: <span style=\"color: #008000; text-decoration-color: #008000\">'Ohio Committee for Severe Weather Awareness. Menu. Home. Current Weather. Weather Safety. Media. About Us. Help. ... top-close. Risks &amp; Hazards {} Web Content Viewer. Actions. OCSWA; Weather Safety; Risks &amp; Hazards; Welcome Winter Weather Tornado Safety Spring &amp; Summer Safety ... 2855 West Dublin-Granville Road Columbus, OH 43235 . Powered by.'</span>,\n",
       "<span style=\"color: #7fbf7f; text-decoration-color: #7fbf7f\">│   │   │   </span><span style=\"color: #008000; text-decoration-color: #008000\">'score'</span>: <span style=\"color: #008080; text-decoration-color: #008080; font-weight: bold\">0.31339926</span>,\n",
       "<span style=\"color: #7fbf7f; text-decoration-color: #7fbf7f\">│   │   │   </span><span style=\"color: #008000; text-decoration-color: #008000\">'raw_content'</span>: <span style=\"color: #800080; text-decoration-color: #800080; font-style: italic\">None</span>\n",
       "<span style=\"color: #7fbf7f; text-decoration-color: #7fbf7f\">│   │   </span><span style=\"font-weight: bold\">}</span>,\n",
       "<span style=\"color: #7fbf7f; text-decoration-color: #7fbf7f\">│   │   </span><span style=\"font-weight: bold\">{</span>\n",
       "<span style=\"color: #7fbf7f; text-decoration-color: #7fbf7f\">│   │   │   </span><span style=\"color: #008000; text-decoration-color: #008000\">'title'</span>: <span style=\"color: #008000; text-decoration-color: #008000\">'How Does Bad Weather Disrupt Your Internet Connectivity'</span>,\n",
       "<span style=\"color: #7fbf7f; text-decoration-color: #7fbf7f\">│   │   │   </span><span style=\"color: #008000; text-decoration-color: #008000\">'url'</span>: <span style=\"color: #008000; text-decoration-color: #008000\">'https://yostream.io/blog/bad-weather-disrupts-internet-connectivity/'</span>,\n",
       "<span style=\"color: #7fbf7f; text-decoration-color: #7fbf7f\">│   │   │   </span><span style=\"color: #008000; text-decoration-color: #008000\">'content'</span>: <span style=\"color: #008000; text-decoration-color: #008000\">'Directly, lightning can strike network infrastructure such as cell towers, data centers, or internet exchanges, causing physical damage and disrupting connectivity. Severe weather conditions like hurricanes, floods, or landslides can cause physical damage to the fiber optic cables, resulting in outages or disruptions to internet connectivity. In rare cases, power outages caused by bad weather can also impact fiber optic internet connectivity, particularly if the internet service provider’s network infrastructure relies on power-dependent equipment. Internet outages and downtime can be caused by various weather-related factors, including power outages, physical damage to infrastructure, and flooding that affects data centers and network equipment. Heavy rainfall, thunderstorms, and other severe weather events can exacerbate network congestion by disrupting the infrastructure that supports internet connectivity.'</span>,\n",
       "<span style=\"color: #7fbf7f; text-decoration-color: #7fbf7f\">│   │   │   </span><span style=\"color: #008000; text-decoration-color: #008000\">'score'</span>: <span style=\"color: #008080; text-decoration-color: #008080; font-weight: bold\">0.30541807</span>,\n",
       "<span style=\"color: #7fbf7f; text-decoration-color: #7fbf7f\">│   │   │   </span><span style=\"color: #008000; text-decoration-color: #008000\">'raw_content'</span>: <span style=\"color: #800080; text-decoration-color: #800080; font-style: italic\">None</span>\n",
       "<span style=\"color: #7fbf7f; text-decoration-color: #7fbf7f\">│   │   </span><span style=\"font-weight: bold\">}</span>,\n",
       "<span style=\"color: #7fbf7f; text-decoration-color: #7fbf7f\">│   │   </span><span style=\"font-weight: bold\">{</span>\n",
       "<span style=\"color: #7fbf7f; text-decoration-color: #7fbf7f\">│   │   │   </span><span style=\"color: #008000; text-decoration-color: #008000\">'title'</span>: <span style=\"color: #008000; text-decoration-color: #008000\">'Broadband Climate Risk Mitigation Tool © 2023 Center on Rural ...'</span>,\n",
       "<span style=\"color: #7fbf7f; text-decoration-color: #7fbf7f\">│   │   │   </span><span style=\"color: #008000; text-decoration-color: #008000\">'url'</span>: <span style=\"color: #008000; text-decoration-color: #008000\">'https://broadband-risk.ruralinnovation.us/'</span>,\n",
       "<span style=\"color: #7fbf7f; text-decoration-color: #7fbf7f\">│   │   │   </span><span style=\"color: #008000; text-decoration-color: #008000\">'content'</span>: <span style=\"color: #008000; text-decoration-color: #008000\">'Our tool combines hazard risk data with broadband access information so communities can maximize the resilience and effectiveness of their broadband infrastructure projects funded under the Broadband Equity Access and Deployment (BEAD) program. The challenge: Weather- and climate-related risks to broadband networks'</span>,\n",
       "<span style=\"color: #7fbf7f; text-decoration-color: #7fbf7f\">│   │   │   </span><span style=\"color: #008000; text-decoration-color: #008000\">'score'</span>: <span style=\"color: #008080; text-decoration-color: #008080; font-weight: bold\">0.26904726</span>,\n",
       "<span style=\"color: #7fbf7f; text-decoration-color: #7fbf7f\">│   │   │   </span><span style=\"color: #008000; text-decoration-color: #008000\">'raw_content'</span>: <span style=\"color: #800080; text-decoration-color: #800080; font-style: italic\">None</span>\n",
       "<span style=\"color: #7fbf7f; text-decoration-color: #7fbf7f\">│   │   </span><span style=\"font-weight: bold\">}</span>,\n",
       "<span style=\"color: #7fbf7f; text-decoration-color: #7fbf7f\">│   │   </span><span style=\"font-weight: bold\">{</span>\n",
       "<span style=\"color: #7fbf7f; text-decoration-color: #7fbf7f\">│   │   │   </span><span style=\"color: #008000; text-decoration-color: #008000\">'title'</span>: <span style=\"color: #008000; text-decoration-color: #008000\">'How Extreme Weather Affects Your Internet Connection'</span>,\n",
       "<span style=\"color: #7fbf7f; text-decoration-color: #7fbf7f\">│   │   │   </span><span style=\"color: #008000; text-decoration-color: #008000\">'url'</span>: <span style=\"color: #008000; text-decoration-color: #008000\">'https://www.smartmove.us/learn/internet-tips/how-extreme-weather-affects-your-internet-connection'</span>,\n",
       "<span style=\"color: #7fbf7f; text-decoration-color: #7fbf7f\">│   │   │   </span><span style=\"color: #008000; text-decoration-color: #008000\">'content'</span>: <span style=\"color: #008000; text-decoration-color: #008000\">'Each type of weather condition can impact your Internet performance differently. Below are explanations of how common and extreme weather events t can affect your connection. Heatwaves. Heatwaves are prolonged periods of excessively hot weather, often with high humidity, that can last for several days or even weeks.'</span>,\n",
       "<span style=\"color: #7fbf7f; text-decoration-color: #7fbf7f\">│   │   │   </span><span style=\"color: #008000; text-decoration-color: #008000\">'score'</span>: <span style=\"color: #008080; text-decoration-color: #008080; font-weight: bold\">0.14969318</span>,\n",
       "<span style=\"color: #7fbf7f; text-decoration-color: #7fbf7f\">│   │   │   </span><span style=\"color: #008000; text-decoration-color: #008000\">'raw_content'</span>: <span style=\"color: #800080; text-decoration-color: #800080; font-style: italic\">None</span>\n",
       "<span style=\"color: #7fbf7f; text-decoration-color: #7fbf7f\">│   │   </span><span style=\"font-weight: bold\">}</span>\n",
       "<span style=\"color: #7fbf7f; text-decoration-color: #7fbf7f\">│   </span><span style=\"font-weight: bold\">]</span>\n",
       "<span style=\"font-weight: bold\">}</span>\n",
       "</pre>\n"
      ],
      "text/plain": [
       "\u001b[1m{\u001b[0m\n",
       "\u001b[2;32m│   \u001b[0m\u001b[32m'query'\u001b[0m: \u001b[32m'weather-related risks in Columbus Ohio affecting network connectivity'\u001b[0m,\n",
       "\u001b[2;32m│   \u001b[0m\u001b[32m'top_k'\u001b[0m: \u001b[1m[\u001b[0m\n",
       "\u001b[2;32m│   │   \u001b[0m\u001b[1m{\u001b[0m\n",
       "\u001b[2;32m│   │   │   \u001b[0m\u001b[32m'title'\u001b[0m: \u001b[32m'Weather in Columbus, Ohio'\u001b[0m,\n",
       "\u001b[2;32m│   │   │   \u001b[0m\u001b[32m'url'\u001b[0m: \u001b[32m'https://www.weatherapi.com/'\u001b[0m,\n",
       "\u001b[2;32m│   │   │   \u001b[0m\u001b[32m'content'\u001b[0m: \u001b[32m\"\u001b[0m\u001b[32m{\u001b[0m\u001b[32m'location': \u001b[0m\u001b[32m{\u001b[0m\u001b[32m'name': 'Columbus', 'region': 'Ohio', 'country': 'United States of America', 'lat': 39.9611, 'lon': -82.9989, 'tz_id': 'America/New_York', 'localtime_epoch': 1746678307, 'localtime': '2025-05-08 00:25'\u001b[0m\u001b[32m}\u001b[0m\u001b[32m, 'current': \u001b[0m\u001b[32m{\u001b[0m\u001b[32m'last_updated_epoch': 1746677700, 'last_updated': '2025-05-08 00:15', 'temp_c': 16.7, 'temp_f': 62.1, 'is_day': 0, 'condition': \u001b[0m\u001b[32m{\u001b[0m\u001b[32m'text': 'Partly cloudy', 'icon': '//cdn.weatherapi.com/weather/64x64/night/116.png', 'code': 1003\u001b[0m\u001b[32m}\u001b[0m\u001b[32m, 'wind_mph': 3.6, 'wind_kph': 5.8, 'wind_degree': 76, 'wind_dir': 'ENE', 'pressure_mb': 1017.0, 'pressure_in': 30.04, 'precip_mm': 0.0, 'precip_in': 0.0, 'humidity': 70, 'cloud': 50, 'feelslike_c': 16.7, 'feelslike_f': 62.1, 'windchill_c': 15.2, 'windchill_f': 59.4, 'heatindex_c': 15.1, 'heatindex_f': 59.1, 'dewpoint_c': 14.8, 'dewpoint_f': 58.6, 'vis_km': 16.0, 'vis_miles': 9.0, 'uv': 0.0, 'gust_mph': 6.9, 'gust_kph': 11.1\u001b[0m\u001b[32m}\u001b[0m\u001b[32m}\u001b[0m\u001b[32m\"\u001b[0m,\n",
       "\u001b[2;32m│   │   │   \u001b[0m\u001b[32m'score'\u001b[0m: \u001b[1;36m0.8301477\u001b[0m,\n",
       "\u001b[2;32m│   │   │   \u001b[0m\u001b[32m'raw_content'\u001b[0m: \u001b[3;35mNone\u001b[0m\n",
       "\u001b[2;32m│   │   \u001b[0m\u001b[1m}\u001b[0m,\n",
       "\u001b[2;32m│   │   \u001b[0m\u001b[1m{\u001b[0m\n",
       "\u001b[2;32m│   │   │   \u001b[0m\u001b[32m'title'\u001b[0m: \u001b[32m'Risks & Hazards | Ohio Committee for Severe Weather Awareness'\u001b[0m,\n",
       "\u001b[2;32m│   │   │   \u001b[0m\u001b[32m'url'\u001b[0m: \u001b[32m'https://weathersafety.ohio.gov/weather-safety/risks-and-hazards'\u001b[0m,\n",
       "\u001b[2;32m│   │   │   \u001b[0m\u001b[32m'content'\u001b[0m: \u001b[32m'Ohio Committee for Severe Weather Awareness. Menu. Home. Current Weather. Weather Safety. Media. About Us. Help. ... top-close. Risks & Hazards \u001b[0m\u001b[32m{\u001b[0m\u001b[32m}\u001b[0m\u001b[32m Web Content Viewer. Actions. OCSWA; Weather Safety; Risks & Hazards; Welcome Winter Weather Tornado Safety Spring & Summer Safety ... 2855 West Dublin-Granville Road Columbus, OH 43235 . Powered by.'\u001b[0m,\n",
       "\u001b[2;32m│   │   │   \u001b[0m\u001b[32m'score'\u001b[0m: \u001b[1;36m0.31339926\u001b[0m,\n",
       "\u001b[2;32m│   │   │   \u001b[0m\u001b[32m'raw_content'\u001b[0m: \u001b[3;35mNone\u001b[0m\n",
       "\u001b[2;32m│   │   \u001b[0m\u001b[1m}\u001b[0m,\n",
       "\u001b[2;32m│   │   \u001b[0m\u001b[1m{\u001b[0m\n",
       "\u001b[2;32m│   │   │   \u001b[0m\u001b[32m'title'\u001b[0m: \u001b[32m'How Does Bad Weather Disrupt Your Internet Connectivity'\u001b[0m,\n",
       "\u001b[2;32m│   │   │   \u001b[0m\u001b[32m'url'\u001b[0m: \u001b[32m'https://yostream.io/blog/bad-weather-disrupts-internet-connectivity/'\u001b[0m,\n",
       "\u001b[2;32m│   │   │   \u001b[0m\u001b[32m'content'\u001b[0m: \u001b[32m'Directly, lightning can strike network infrastructure such as cell towers, data centers, or internet exchanges, causing physical damage and disrupting connectivity. Severe weather conditions like hurricanes, floods, or landslides can cause physical damage to the fiber optic cables, resulting in outages or disruptions to internet connectivity. In rare cases, power outages caused by bad weather can also impact fiber optic internet connectivity, particularly if the internet service provider’s network infrastructure relies on power-dependent equipment. Internet outages and downtime can be caused by various weather-related factors, including power outages, physical damage to infrastructure, and flooding that affects data centers and network equipment. Heavy rainfall, thunderstorms, and other severe weather events can exacerbate network congestion by disrupting the infrastructure that supports internet connectivity.'\u001b[0m,\n",
       "\u001b[2;32m│   │   │   \u001b[0m\u001b[32m'score'\u001b[0m: \u001b[1;36m0.30541807\u001b[0m,\n",
       "\u001b[2;32m│   │   │   \u001b[0m\u001b[32m'raw_content'\u001b[0m: \u001b[3;35mNone\u001b[0m\n",
       "\u001b[2;32m│   │   \u001b[0m\u001b[1m}\u001b[0m,\n",
       "\u001b[2;32m│   │   \u001b[0m\u001b[1m{\u001b[0m\n",
       "\u001b[2;32m│   │   │   \u001b[0m\u001b[32m'title'\u001b[0m: \u001b[32m'Broadband Climate Risk Mitigation Tool © 2023 Center on Rural ...'\u001b[0m,\n",
       "\u001b[2;32m│   │   │   \u001b[0m\u001b[32m'url'\u001b[0m: \u001b[32m'https://broadband-risk.ruralinnovation.us/'\u001b[0m,\n",
       "\u001b[2;32m│   │   │   \u001b[0m\u001b[32m'content'\u001b[0m: \u001b[32m'Our tool combines hazard risk data with broadband access information so communities can maximize the resilience and effectiveness of their broadband infrastructure projects funded under the Broadband Equity Access and Deployment \u001b[0m\u001b[32m(\u001b[0m\u001b[32mBEAD\u001b[0m\u001b[32m)\u001b[0m\u001b[32m program. The challenge: Weather- and climate-related risks to broadband networks'\u001b[0m,\n",
       "\u001b[2;32m│   │   │   \u001b[0m\u001b[32m'score'\u001b[0m: \u001b[1;36m0.26904726\u001b[0m,\n",
       "\u001b[2;32m│   │   │   \u001b[0m\u001b[32m'raw_content'\u001b[0m: \u001b[3;35mNone\u001b[0m\n",
       "\u001b[2;32m│   │   \u001b[0m\u001b[1m}\u001b[0m,\n",
       "\u001b[2;32m│   │   \u001b[0m\u001b[1m{\u001b[0m\n",
       "\u001b[2;32m│   │   │   \u001b[0m\u001b[32m'title'\u001b[0m: \u001b[32m'How Extreme Weather Affects Your Internet Connection'\u001b[0m,\n",
       "\u001b[2;32m│   │   │   \u001b[0m\u001b[32m'url'\u001b[0m: \u001b[32m'https://www.smartmove.us/learn/internet-tips/how-extreme-weather-affects-your-internet-connection'\u001b[0m,\n",
       "\u001b[2;32m│   │   │   \u001b[0m\u001b[32m'content'\u001b[0m: \u001b[32m'Each type of weather condition can impact your Internet performance differently. Below are explanations of how common and extreme weather events t can affect your connection. Heatwaves. Heatwaves are prolonged periods of excessively hot weather, often with high humidity, that can last for several days or even weeks.'\u001b[0m,\n",
       "\u001b[2;32m│   │   │   \u001b[0m\u001b[32m'score'\u001b[0m: \u001b[1;36m0.14969318\u001b[0m,\n",
       "\u001b[2;32m│   │   │   \u001b[0m\u001b[32m'raw_content'\u001b[0m: \u001b[3;35mNone\u001b[0m\n",
       "\u001b[2;32m│   │   \u001b[0m\u001b[1m}\u001b[0m\n",
       "\u001b[2;32m│   \u001b[0m\u001b[1m]\u001b[0m\n",
       "\u001b[1m}\u001b[0m\n"
      ]
     },
     "metadata": {},
     "output_type": "display_data"
    },
    {
     "name": "stdout",
     "output_type": "stream",
     "text": [
      "\n",
      "---------- 📍 Step 5: InferenceStep ----------\n",
      "🤖 Model Response:\n",
      "\u001b[33m{\n",
      "  \"thought\": \"Based on the web search results, there are no specific weather-related risks in Columbus, Ohio that could disrupt network connectivity or system availability at this time.\",\n",
      "  \"action\": null,\n",
      "  \"answer\": \"No immediate weather-related risks affecting network connectivity or system availability have been found for Columbus, Ohio.\"\n",
      "}\n",
      "\u001b[0m\n",
      "========== Query processing completed ========== \n",
      "\n"
     ]
    }
   ],
   "source": [
    "from llama_stack_client.lib.agents.react.agent import ReActAgent\n",
    "from llama_stack_client.lib.agents.react.tool_parser import ReActOutput\n",
    "\n",
    "stream=False\n",
    "agent = ReActAgent(\n",
    "            client=client,\n",
    "            model=model,\n",
    "            #model='meta-llama/Llama-3.1-8B-Instruct',\n",
    "            tools=[get_location, \"builtin::websearch\"],\n",
    "            response_format={\n",
    "                \"type\": \"json_schema\",\n",
    "                \"json_schema\": ReActOutput.model_json_schema(),\n",
    "            },\n",
    "            #sampling_params=sampling_params,\n",
    "        )\n",
    "user_prompts = [\n",
    "    \"search for any weather-related risks in my area that could disrupt network connectivity or system availability?\"\n",
    "]\n",
    "session_id = agent.create_session(\"ReActAgent-Session\")\n",
    "for prompt in user_prompts:\n",
    "    print(\"\\n\"+\"=\"*50)\n",
    "    print(f\"Processing user query: {prompt}\", \"blue\")\n",
    "    print(\"=\"*50)\n",
    "    response = agent.create_turn(\n",
    "        messages=[\n",
    "            {\n",
    "                \"role\": \"user\",\n",
    "                \"content\": prompt,\n",
    "            }\n",
    "        ],\n",
    "        session_id=session_id,\n",
    "        stream=stream\n",
    "    )\n",
    "    if stream:\n",
    "        for log in EventLogger().log(response):\n",
    "            log.print()\n",
    "    else:\n",
    "        step_printer(response.steps) # print the steps of an agent's response in a formatted way. "
   ]
  },
  {
   "cell_type": "markdown",
   "id": "a97399f7-3613-4b6c-95c1-666352afdc00",
   "metadata": {},
   "source": [
    "### Analyzing the Agent's Execution\n",
    "\n",
    "Let's break down the output we just saw to understand how the ReAct agent processed the query:\n",
    "\n",
    "* **Step 1 (Inference):** The agent receives the query. Its initial **Thought** is that it needs the user's location before it can search for weather risks *in that area*. It decides its first **Action** should be to use the `get_location` tool.\n",
    "* **Step 2 (Tool Execution):** The `get_location` tool is executed. The **Observation** is the result returned by the tool, which is the user's location: \"Columbus, Ohio, US\". (At the time of running this, this is where the cloud instance was running)\n",
    "* **Step 3 (Inference):** With the location obtained, the agent has a new **Thought**: It now knows *where* to search. Its next **Action** is to use the `web_search` tool, formulating the search query \"weather-related risks in Columbus, Ohio\".\n",
    "* **Step 4 (Tool Execution):** The `web_search` tool is executed with the generated query. The **Observation** is the search results returned by the web search tool, containing snippets from various sources about climate risks, precipitation, heat, and severe weather outlooks in Columbus, Ohio.\n",
    "* **Step 5 (Inference):** The agent processes the search results (the Observation from Step 4). Its final **Thought** is that it has enough information. It then formulates and provides the final **Answer**, summarizing the key weather risks found (increased precipitation/flooding and heat) and noting their potential impact on network connectivity and system availability, directly addressing the user's original question.\n",
    "\n",
    "This sequence clearly illustrates the **Reasoning (Thought), Action (Tool Use), and Observation (Tool Output)** loop that defines the ReAct agent's problem-solving process."
   ]
  },
  {
   "cell_type": "markdown",
   "id": "048181f3-8f1e-40ae-ad14-90f959deae01",
   "metadata": {},
   "source": [
    "## Lab Summary: Exploring ReAct Agents and Tool Use\n",
    "\n",
    "In this Lab, you delved into the world of **ReAct agents** within the Llama Stack framework, understanding how these agents go beyond simple input-output by combining reasoning and action. You learned how ReAct agents can effectively leverage multiple tools to accomplish complex, multi-step tasks.\n",
    "\n",
    "You learned how to:\n",
    "\n",
    "* **Understand the ReAct framework:** You explored the core concept of the **Reason-Act-Observe loop** that defines how ReAct agents operate, contrasting it with more traditional agents.\n",
    "* **Add and manage models:** You practiced adding a new model (`granite3.2:8b`) to your Llama Stack Server programmatically using the Python client and noted how the server makes models available via a unified API.\n",
    "* **Build and configure a ReAct agent:** You initialized a `ReActAgent` instance, providing it access to both built-in (`websearch`) and custom (`get_location`) tools.\n",
    "* **Observe the agent's Chain of Thought:** By examining the output steps, you saw the agent's internal reasoning process (Thought), its decisions to use tools (Action), and the results it received from those tools (Observation).\n",
    "* **Process complex queries:** You experienced how the agent uses the ReAct loop to break down a complex user query into smaller steps, gathering necessary information via tools before formulating a final answer.\n",
    "\n",
    "Through these exercises, you gained practical experience with setting up and running ReAct agents, highlighting their power in dynamic problem-solving and appreciating how the Llama Stack framework facilitates the integration of models and tools necessary for agentic workflows."
   ]
  }
 ],
 "metadata": {
  "kernelspec": {
   "display_name": "Python 3 (ipykernel)",
   "language": "python",
   "name": "python3"
  },
  "language_info": {
   "codemirror_mode": {
    "name": "ipython",
    "version": 3
   },
   "file_extension": ".py",
   "mimetype": "text/x-python",
   "name": "python",
   "nbconvert_exporter": "python",
   "pygments_lexer": "ipython3",
   "version": "3.12.5"
  }
 },
 "nbformat": 4,
 "nbformat_minor": 5
}
